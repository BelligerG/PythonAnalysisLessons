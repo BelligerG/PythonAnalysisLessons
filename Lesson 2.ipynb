{
 "cells": [
  {
   "cell_type": "markdown",
   "metadata": {},
   "source": [
    "# Lesson 2"
   ]
  },
  {
   "cell_type": "markdown",
   "metadata": {},
   "source": [
    "Welcome back! Last lesson we covered variables, mathematical operations and functions.\n",
    "\n",
    "So with that knowledge, can you improve the code below?"
   ]
  },
  {
   "cell_type": "code",
   "execution_count": null,
   "metadata": {},
   "outputs": [],
   "source": [
    "v = 2 + 5 * 1.4\n",
    "x = 2 + 2 * 3\n",
    "y = 2 + 4 * 5\n",
    "z = 2 + 10 * -1"
   ]
  },
  {
   "cell_type": "markdown",
   "metadata": {},
   "source": [
    "In order to improve the above code, you will need to consider something called \"abstraction and encapsulation\". This is fundamental to improving code and making it 'future-proof'.\n",
    "\n",
    "Moving on to this lesson, we will consider 'if', 'for' and 'while' statements."
   ]
  },
  {
   "cell_type": "markdown",
   "metadata": {},
   "source": [
    "## The 'if' statement"
   ]
  },
  {
   "cell_type": "markdown",
   "metadata": {},
   "source": [
    "We touched upon things being equal to one another last lesson, can you write code in the box below to check whether variables number1 and number2 are equal?\n",
    "\n",
    "HINT: Check back to last lesson if required"
   ]
  },
  {
   "cell_type": "code",
   "execution_count": null,
   "metadata": {},
   "outputs": [],
   "source": [
    "number1 = 10\n",
    "number2 = 20/2\n",
    "\n",
    "#Put your answer here..."
   ]
  },
  {
   "cell_type": "markdown",
   "metadata": {},
   "source": [
    "If we wanted to do something ONLY when number1 is equal to number2 we would need to use an 'if' statement, this is exactly what it sounds like, e.g. below only prints out when number1/2 = 5."
   ]
  },
  {
   "cell_type": "code",
   "execution_count": null,
   "metadata": {},
   "outputs": [],
   "source": [
    "if number1/2 == 5:\n",
    "    print(\"CONGRATULATIONS\")"
   ]
  },
  {
   "cell_type": "markdown",
   "metadata": {},
   "source": [
    "Can you alter the above code to only print out a message when number1 is equal to number2?"
   ]
  },
  {
   "cell_type": "markdown",
   "metadata": {},
   "source": [
    "Often, when using an 'if' statement, we want to run a different piece of code when it's true, to when it's false. In this case we can use a few other tricks. For example, we can finish it off with an 'else' statement, or carry it on with an 'elif'.\n",
    "\n",
    "'else' will run anytime the if statement (or any 'elif' statement) is found to be false, it's like the default case.\n",
    "'elif' stands for 'else if', this will run after the initial 'if' statement. An example is shown below:"
   ]
  },
  {
   "cell_type": "code",
   "execution_count": null,
   "metadata": {},
   "outputs": [],
   "source": [
    "if number1 == 10:\n",
    "    print(\"number1 = 10\")\n",
    "elif number1 > 5:\n",
    "    print(\"number1 > 5\")\n",
    "else:\n",
    "    print(\"number1 != 10 and < 5\")"
   ]
  },
  {
   "cell_type": "markdown",
   "metadata": {},
   "source": [
    "Note that if and elif will only run until something is found to be true, then it leaves the if statements and moves onto the next bit of code."
   ]
  },
  {
   "cell_type": "markdown",
   "metadata": {},
   "source": [
    "## The 'for' statement"
   ]
  },
  {
   "cell_type": "markdown",
   "metadata": {},
   "source": [
    "The 'for' statement is really useful when you want to do something to a lot of things, in order to use this, we need to introduce a new data structure, known as a list.\n",
    "\n",
    "In python, lists can contain any number of variables (of any type - e.g. numbers (ints or floats), strings (words) and any other objects (remember everything in python is an object). We can make them by utilising the following command:"
   ]
  },
  {
   "cell_type": "code",
   "execution_count": null,
   "metadata": {},
   "outputs": [],
   "source": [
    "my_first_list = [0, 1, 2, 3, 4]"
   ]
  },
  {
   "cell_type": "markdown",
   "metadata": {},
   "source": [
    "Now, if we wanted to multiply each element of our list by 2 we could do the following:"
   ]
  },
  {
   "cell_type": "code",
   "execution_count": null,
   "metadata": {},
   "outputs": [],
   "source": [
    "for item in my_first_list:\n",
    "    print(item*2)"
   ]
  },
  {
   "cell_type": "markdown",
   "metadata": {},
   "source": [
    "Easy! That's okay, but what if we need to store our answers in a new array? We can do that too:"
   ]
  },
  {
   "cell_type": "code",
   "execution_count": null,
   "metadata": {},
   "outputs": [],
   "source": [
    "#We need to make an empty list for the results to go into\n",
    "my_second_list = []\n",
    "for item in my_first_list:\n",
    "    #To add items to the end of a python list, we need to 'append' them to the end\n",
    "    my_second_list.append(item*2)\n",
    "print(my_second_list)"
   ]
  },
  {
   "cell_type": "markdown",
   "metadata": {},
   "source": [
    "## The 'while' statement"
   ]
  },
  {
   "cell_type": "markdown",
   "metadata": {},
   "source": [
    "The while statement also allows you to move through a list or sequence of things, but the length of it doesn't have to be predefined, in pseudocode:\n",
    "\n",
    "While something is true, do something.\n",
    "\n",
    "An example of this:"
   ]
  },
  {
   "cell_type": "code",
   "execution_count": null,
   "metadata": {},
   "outputs": [],
   "source": [
    "while_testing_number = 0\n",
    "while while_testing_number < 5:\n",
    "    print(while_testing_number)\n",
    "    while_testing_number = while_testing_number + 1"
   ]
  },
  {
   "cell_type": "markdown",
   "metadata": {},
   "source": [
    "This will run forever if we leave the final statement out (\"while_testing_number = while_testing_number + 1\"), so it' important that whenever we use a 'while' loop, we include a way for it to end!\n",
    "\n",
    "Using the knowledge you have gained so far, can you write a short piece of code that will multiply a variable (test_variable1) by 2 until it's bigger than 10000, and print out the number of steps it takes?\n",
    "\n",
    "BONUS: Put it into a function!"
   ]
  },
  {
   "cell_type": "code",
   "execution_count": null,
   "metadata": {},
   "outputs": [],
   "source": [
    "test_variable1 = 3\n",
    "\n",
    "#Put your code here - this may require some thought, try to use pseudocode to help you solve it"
   ]
  },
  {
   "cell_type": "markdown",
   "metadata": {},
   "source": [
    "## Task"
   ]
  },
  {
   "cell_type": "markdown",
   "metadata": {},
   "source": [
    "First, run the code below.\n",
    "\n",
    "Understanding this code is not 100% crucial at this stage, but essentially, it creates a scenario I had to deal with recently - I receieved some benchmarking data in a file (benchmarking is testing how fast a code runs). I was given a file where the first line (and every other line after that) contained the size of the system, and the second (and every other line after that) contained the time it took to calculate the required property.\n",
    "\n",
    "We have not covered how to load in a file yet, so the code below will recreate a randomised sample in a list called \"data\" for you to use."
   ]
  },
  {
   "cell_type": "code",
   "execution_count": null,
   "metadata": {},
   "outputs": [],
   "source": [
    "import numpy as np\n",
    "\n",
    "no_samples = [10**i for i in range(5)]\n",
    "timings = np.random.rand(5)\n",
    "timings = [timings[i]+(no_samples[i]/(i+1)) for i in range(len(timings))]\n",
    "data = []\n",
    "\n",
    "for i,j in zip(no_samples, timings):\n",
    "    data.append(i)\n",
    "    data.append(j)"
   ]
  },
  {
   "cell_type": "markdown",
   "metadata": {},
   "source": [
    "Once you've run the code above, try printing out \"data\" to have a look at it.\n",
    "\n",
    "Your task is to take data and split it into 2 lists."
   ]
  },
  {
   "cell_type": "code",
   "execution_count": null,
   "metadata": {},
   "outputs": [],
   "source": [
    "#Put your code here"
   ]
  }
 ],
 "metadata": {
  "kernelspec": {
   "display_name": "Python 3",
   "language": "python",
   "name": "python3"
  },
  "language_info": {
   "codemirror_mode": {
    "name": "ipython",
    "version": 3
   },
   "file_extension": ".py",
   "mimetype": "text/x-python",
   "name": "python",
   "nbconvert_exporter": "python",
   "pygments_lexer": "ipython3",
   "version": "3.6.4"
  }
 },
 "nbformat": 4,
 "nbformat_minor": 2
}
