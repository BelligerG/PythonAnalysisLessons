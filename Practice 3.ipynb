{
 "cells": [
  {
   "cell_type": "markdown",
   "metadata": {},
   "source": [
    "# Practice Challenges 2"
   ]
  },
  {
   "cell_type": "markdown",
   "metadata": {},
   "source": [
    "Run this code:"
   ]
  },
  {
   "cell_type": "code",
   "execution_count": null,
   "metadata": {},
   "outputs": [],
   "source": [
    "import numpy as np\n",
    "import csv\n",
    "\n",
    "data = np.cos(np.random.random((100, 4)))\n",
    "data[:, 0]*=10\n",
    "np.savetxt('data.csv', data, delimiter=',')\n",
    "\n",
    "no_samples = [10**i for i in range(5)]\n",
    "timings = np.random.rand(5)\n",
    "timings = [timings[i]+(no_samples[i]/(i+1)) for i in range(len(timings))]\n",
    "data = []\n",
    "\n",
    "for i,j in zip(no_samples, timings):\n",
    "    data.append(i)\n",
    "    data.append(j)\n",
    "\n",
    "with open(\"challenge_data.csv\", 'w') as fin:\n",
    "    writer = csv.writer(fin)\n",
    "    writer.writerow([\"Data\"])\n",
    "    for val in data:\n",
    "        writer.writerow([val])"
   ]
  },
  {
   "cell_type": "markdown",
   "metadata": {},
   "source": [
    "## Problem 1"
   ]
  },
  {
   "cell_type": "markdown",
   "metadata": {},
   "source": [
    "We are going to consider the results in data.csv.\n",
    "\n",
    "Open the file and take a look, you should see 100 rows and 4 columns with NO HEADERS.\n",
    "\n",
    "Step 1:\n",
    "\n",
    "First, let's import pandas."
   ]
  },
  {
   "cell_type": "code",
   "execution_count": null,
   "metadata": {},
   "outputs": [],
   "source": [
    "#Your code here"
   ]
  },
  {
   "cell_type": "markdown",
   "metadata": {},
   "source": [
    "Step 2:\n",
    "\n",
    "Now, let's read in the file:\n",
    "\n",
    "HINT: we have no headers in this file, so we need to set the header=None flag."
   ]
  },
  {
   "cell_type": "code",
   "execution_count": null,
   "metadata": {},
   "outputs": [],
   "source": [
    "#Your code here"
   ]
  },
  {
   "cell_type": "markdown",
   "metadata": {},
   "source": [
    "Step 3:\n",
    "\n",
    "Print out your dataframe to take a look at it and make sure it's what you're expecting."
   ]
  },
  {
   "cell_type": "code",
   "execution_count": null,
   "metadata": {},
   "outputs": [],
   "source": [
    "#Your code here"
   ]
  },
  {
   "cell_type": "markdown",
   "metadata": {},
   "source": [
    "Step 4:\n",
    "\n",
    "Plot your dataframe"
   ]
  },
  {
   "cell_type": "code",
   "execution_count": null,
   "metadata": {},
   "outputs": [],
   "source": [
    "#Your code here"
   ]
  },
  {
   "cell_type": "markdown",
   "metadata": {},
   "source": [
    "Step 5:\n",
    "\n",
    "Uh Oh! Our data is on different scales! We need to plot our data separately.\n",
    "\n",
    "Can you plot the first column on a graph on it's own?"
   ]
  },
  {
   "cell_type": "code",
   "execution_count": null,
   "metadata": {},
   "outputs": [],
   "source": [
    "#Your code here"
   ]
  },
  {
   "cell_type": "markdown",
   "metadata": {},
   "source": [
    "Step 6:\n",
    "\n",
    "We need to plot the last 3 columns of our dataframe on a graph, in order to access the last 3 columns, we can use the following command:\n",
    "\n",
    "pd.read_csv(\"data.csv\", header=None).loc[:, 1:]\n",
    "\n",
    "Using this, can you plot the resultant graph?"
   ]
  },
  {
   "cell_type": "code",
   "execution_count": null,
   "metadata": {},
   "outputs": [],
   "source": [
    "#Your code here"
   ]
  },
  {
   "cell_type": "markdown",
   "metadata": {},
   "source": [
    "Step 7 (Optional):\n",
    "\n",
    "Pick one of your graphs, try to customise it - change the colour of the line, add axis titles etc..."
   ]
  },
  {
   "cell_type": "code",
   "execution_count": null,
   "metadata": {},
   "outputs": [],
   "source": [
    "#Your code here"
   ]
  },
  {
   "cell_type": "markdown",
   "metadata": {},
   "source": [
    "### Skills used\n",
    "\n",
    "- Reading in a file\n",
    "- Plotting graphs\n",
    "- Basic useage of pandas\n",
    "- Graph customisation"
   ]
  },
  {
   "cell_type": "markdown",
   "metadata": {},
   "source": [
    "## Problem 2 (CHALLENGE)"
   ]
  },
  {
   "cell_type": "markdown",
   "metadata": {},
   "source": [
    "In a file called \"challenge_data.csv\", I have created data to represent the benchmarking calculations. \n",
    "\n",
    "This is in the format of number of samples on one line, time on the next line, then repeating. \n",
    "\n",
    "Your challenge is to read in the file and plot the resultant benchmarking graph.\n",
    "\n",
    "You will need to use code from previous lessons to do this!"
   ]
  },
  {
   "cell_type": "code",
   "execution_count": null,
   "metadata": {},
   "outputs": [],
   "source": []
  }
 ],
 "metadata": {
  "kernelspec": {
   "display_name": "Python 3",
   "language": "python",
   "name": "python3"
  },
  "language_info": {
   "codemirror_mode": {
    "name": "ipython",
    "version": 3
   },
   "file_extension": ".py",
   "mimetype": "text/x-python",
   "name": "python",
   "nbconvert_exporter": "python",
   "pygments_lexer": "ipython3",
   "version": "3.6.4"
  }
 },
 "nbformat": 4,
 "nbformat_minor": 2
}
