{
 "cells": [
  {
   "cell_type": "markdown",
   "metadata": {},
   "source": [
    "# Lesson 6"
   ]
  },
  {
   "cell_type": "markdown",
   "metadata": {},
   "source": [
    "Today, we'll focus on using the pandas module to manipulate data!\n",
    "\n",
    "Run the code below, this will create some categorical data that we'll use for the first part of the lesson.\n",
    "\n",
    "After you've run it, find the file and open it to take a look."
   ]
  },
  {
   "cell_type": "code",
   "execution_count": 11,
   "metadata": {},
   "outputs": [],
   "source": [
    "import random\n",
    "import csv\n",
    "\n",
    "labels = [\"square\", \"circle\", \"triangle\", \"cross\"]\n",
    "\n",
    "with open(\"lesson_6_data.csv\", 'w') as fout:\n",
    "    writer = csv.writer(fout)\n",
    "    writer.writerow(['Button', 'Number of times pressed in a row'])\n",
    "    writer.writerows([[random.choice(labels), random.randint(1, 10)] for i in range(100)])"
   ]
  },
  {
   "cell_type": "markdown",
   "metadata": {},
   "source": [
    "Using pandas, load the data into a dataframe.\n",
    "\n",
    "Then have a look at your data."
   ]
  },
  {
   "cell_type": "code",
   "execution_count": null,
   "metadata": {
    "scrolled": true
   },
   "outputs": [],
   "source": [
    "#Your code here"
   ]
  },
  {
   "cell_type": "markdown",
   "metadata": {},
   "source": [
    "This data represents a playstation controller - imagine we can record the number of times a button was pressed in a row on a single playthrough of a game -- a Playstation 'keylogger'.\n",
    "\n",
    "We're going to analyse our data to find some statistics that may be relevant.\n",
    "\n",
    "First, we need to make sure that all of our data is correctly assigned to datatypes. The words or 'strings' should be objects and the numbers should either be 'int' if they're integers or 'float' if they contain a decimal point.\n",
    "\n",
    "To look at the datatypes of our dataframe we can type:\n",
    "\n",
    "NAME_OF_DATAFRAME.dtypes"
   ]
  },
  {
   "cell_type": "code",
   "execution_count": null,
   "metadata": {},
   "outputs": [],
   "source": [
    "#Your code here"
   ]
  },
  {
   "cell_type": "markdown",
   "metadata": {},
   "source": [
    "Okay, let's have a look at the number of times a button was pressed, the best way to identify any trend is to plot it, we can choose to plot a single column by using the following command:\n",
    "\n",
    "NAME_OF_DATAFRAME.loc[:, 'Number of times pressed in a row'].plot()\n",
    "\n",
    "- .loc stands for locate\n",
    "- [] represents the indices we want to use - this is called slicing the data\n",
    "- [:, shows we want to use all the rows\n",
    "- 'Number of times pressed in a row'] explains the title of the column we want to use\n",
    "- .plot() asks pandas to plot our series"
   ]
  },
  {
   "cell_type": "code",
   "execution_count": null,
   "metadata": {},
   "outputs": [],
   "source": [
    "#Your code here"
   ]
  },
  {
   "cell_type": "markdown",
   "metadata": {},
   "source": [
    "Okay, so that looks pretty random, maybe there's a better way to analyse this data.\n",
    "\n",
    "We could look at the maximum number of times a button was pressed in a single event.\n",
    "\n",
    "We can sort our data by a column of the dataframe by using the following command:\n",
    "\n",
    "NAME_OF_DATAFRAME.sort_values(by=\"Number of times pressed in a row\")"
   ]
  },
  {
   "cell_type": "code",
   "execution_count": null,
   "metadata": {},
   "outputs": [],
   "source": [
    "#Your code here"
   ]
  },
  {
   "cell_type": "markdown",
   "metadata": {},
   "source": [
    "Now, if we only wanted the maximum value, we could ask for just the last line by using:\n",
    "\n",
    "NAME_OF_DATAFRAME.sort_values(by=\"Number of times pressed in a row\").tail(1)\n",
    "\n",
    ".tail(1) asks for the bottom 1 line, try it below:"
   ]
  },
  {
   "cell_type": "code",
   "execution_count": null,
   "metadata": {},
   "outputs": [],
   "source": [
    "#Your code here"
   ]
  },
  {
   "cell_type": "markdown",
   "metadata": {},
   "source": [
    "Alternatively, we can ask for the maximum by using:\n",
    "\n",
    "NAME_OF_DATAFRAME.max()"
   ]
  },
  {
   "cell_type": "code",
   "execution_count": null,
   "metadata": {},
   "outputs": [],
   "source": [
    "#Your code here"
   ]
  },
  {
   "cell_type": "markdown",
   "metadata": {},
   "source": [
    "Now, can you find the minimum values?"
   ]
  },
  {
   "cell_type": "code",
   "execution_count": null,
   "metadata": {},
   "outputs": [],
   "source": [
    "#Your code here"
   ]
  },
  {
   "cell_type": "markdown",
   "metadata": {},
   "source": [
    "We can calculate all sorts of statisics using methods like this, but what about if we want to see the distribution of data in a more convenient way?\n",
    "\n",
    "We could just use a boxplot, by using:\n",
    "\n",
    "NAME_OF_DATAFRAME.boxplot()"
   ]
  },
  {
   "cell_type": "code",
   "execution_count": null,
   "metadata": {},
   "outputs": [],
   "source": [
    "#Your code here"
   ]
  },
  {
   "cell_type": "markdown",
   "metadata": {},
   "source": [
    "Excellent! But now, I want to know how many times each button was pressed in total.\n",
    "\n",
    "To do that, we need to group the data together, we can do that easily by typing:\n",
    "\n",
    "NAME_OF_DATAFRAME.groupby(\"Button\").sum()\n",
    "\n",
    "This code means to group by the \"Button\" column and adds up all of the number of times the button was pressed - we could also use .mean() to calculate the average among other commands."
   ]
  },
  {
   "cell_type": "code",
   "execution_count": null,
   "metadata": {
    "scrolled": true
   },
   "outputs": [],
   "source": [
    "#Your code here"
   ]
  },
  {
   "cell_type": "markdown",
   "metadata": {},
   "source": [
    "Okay, let's create a bar chart of our new data.\n",
    "\n",
    "We can do this by using:\n",
    "\n",
    "NAME_OF_DATAFRAME.groupby(\"Button\").sum().plot.bar()"
   ]
  },
  {
   "cell_type": "code",
   "execution_count": null,
   "metadata": {},
   "outputs": [],
   "source": [
    "#Your code here"
   ]
  },
  {
   "cell_type": "markdown",
   "metadata": {},
   "source": [
    "Let's ask for a boxplot for each button, to find information about the patterns in the distributions.\n",
    "\n",
    "We can do this easily, by typing:\n",
    "\n",
    "NAME_OF_DATAFRAME.groupby(\"Button\").boxplot()"
   ]
  },
  {
   "cell_type": "code",
   "execution_count": null,
   "metadata": {},
   "outputs": [],
   "source": [
    "#Your code here"
   ]
  },
  {
   "cell_type": "markdown",
   "metadata": {},
   "source": [
    "This data is relatively simple, but as you can se, there are a LOT of ways to analyse it, what I've shown you here is only the tip of the iceberg! \n",
    "\n",
    "I hope that over the duration of this short course you've learnt enough to find new commands and techniques on your own, but for now, it's time for your task."
   ]
  },
  {
   "cell_type": "markdown",
   "metadata": {},
   "source": [
    "## Task\n",
    "\n",
    "Run the code below:"
   ]
  },
  {
   "cell_type": "code",
   "execution_count": 1,
   "metadata": {},
   "outputs": [],
   "source": [
    "import random\n",
    "import csv\n",
    "\n",
    "labels = [\"Red\", \"Yellow\", \"Green\", \"Blue\", \"Orange\", \"Purple\"]\n",
    "\n",
    "with open(\"lesson_6_task_data.csv\", 'w') as fout:\n",
    "    writer = csv.writer(fout)\n",
    "    writer.writerow(['Colour', 'Number of cars', 'Number of coats'])\n",
    "    writer.writerows([[random.choice(labels), random.randint(1, 4), random.randint(1, 10)] for i in range(100)])"
   ]
  },
  {
   "cell_type": "markdown",
   "metadata": {},
   "source": [
    "The scenario here is that 100 school children have been asked to go out and write down the number of cars and the number of coats they see with a certain colour in 30 mins on random roads in Exeter. You're task is to analyse this data.\n",
    "\n",
    "HINT: If you're not sure where to start, have a look at the steps we did above."
   ]
  },
  {
   "cell_type": "code",
   "execution_count": 2,
   "metadata": {},
   "outputs": [],
   "source": [
    "#Your code here"
   ]
  }
 ],
 "metadata": {
  "kernelspec": {
   "display_name": "Python 3",
   "language": "python",
   "name": "python3"
  },
  "language_info": {
   "codemirror_mode": {
    "name": "ipython",
    "version": 3
   },
   "file_extension": ".py",
   "mimetype": "text/x-python",
   "name": "python",
   "nbconvert_exporter": "python",
   "pygments_lexer": "ipython3",
   "version": "3.6.4"
  }
 },
 "nbformat": 4,
 "nbformat_minor": 2
}
