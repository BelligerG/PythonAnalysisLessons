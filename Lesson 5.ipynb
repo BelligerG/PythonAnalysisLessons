{
 "cells": [
  {
   "cell_type": "markdown",
   "metadata": {},
   "source": [
    "# Lesson 5"
   ]
  },
  {
   "cell_type": "markdown",
   "metadata": {},
   "source": [
    "This lesson will focus on how we can read in results from a file.\n",
    "\n",
    "I'll show you 3 ways to read in results from a csv file, this can easily be extended to other file formats (with a little googling!).\n",
    "\n",
    "First, let's create the file we'll use, run the code below:"
   ]
  },
  {
   "cell_type": "code",
   "execution_count": null,
   "metadata": {},
   "outputs": [],
   "source": [
    "import numpy as np\n",
    "import csv\n",
    "\n",
    "with open(\"test_file.csv\", 'w', newline='') as file:\n",
    "    writer = csv.writer(file)\n",
    "    writer.writerow(['Feature 1', 'Feature 2', 'Feature 3'])\n",
    "    writer.writerows(np.random.random((100,3)))"
   ]
  },
  {
   "cell_type": "markdown",
   "metadata": {},
   "source": [
    "This file creates 100 rows of data with 3 columns, the labels at the top of te columns are \"Feature 1\", \"Feature 2\" and \"Feature 3\" to represent 3 different aspects of our data.\n",
    "\n",
    "Find the file and open it to see what we're dealing with."
   ]
  },
  {
   "cell_type": "markdown",
   "metadata": {},
   "source": [
    "## No modules\n",
    "\n",
    "First, lets open the file using no additional modules:"
   ]
  },
  {
   "cell_type": "code",
   "execution_count": null,
   "metadata": {},
   "outputs": [],
   "source": [
    "fin=open(\"test_file.csv\", 'r').readlines()\n",
    "\n",
    "results = []\n",
    "for line in fin:\n",
    "    results.append(line.strip().split(\",\"))\n",
    "\n",
    "titles = results[0]\n",
    "results = np.array(results[1:], dtype=float)"
   ]
  },
  {
   "cell_type": "markdown",
   "metadata": {},
   "source": [
    "Now, there's a LOT of code in a small space in the box above, let's break it down.\n",
    "\n",
    "First line:\n",
    "\n",
    "fin=open(\"test_file.csv\", 'r').readlines()\n",
    "\n",
    "open is a Python keyword that takes in the name of the file you want to open and whether you want to read a file ('r') or write to a file ('w'). This returns something called a 'text wrapper', but it's more convenient for us to have it in a list format. We can convert the wrapper to a list by using the \".readlines()\" at the end of the line.\n",
    "\n",
    "This code is the same as writing:\n",
    "\n",
    "fin=open(\"test_file.csv\", 'r')\n",
    "fin=fin.readlines()\n",
    "\n",
    "We've just put it all on one line to save space.\n",
    "\n",
    "The next line that requires some explanation is the following:\n",
    "\n",
    "results.append(line.strip().split(\",\"))\n",
    "\n",
    "You'll be familiar with \"results.append\" by now; we're just adding our results to a list we've created called results. the rest of the line, \n",
    "\n",
    "line.strip().split(\",\")\n",
    "\n",
    "can be broken down to understand it. Initially, line.strip() will remove the newline character from the end of the line (\"\\n\"), \".split(\",\")\" will then split our line into a list that separates elements based on where the commas are, e.g. 'a,b,c' would become ['a', 'b', 'c'].\n",
    "\n",
    "The final 2 lines break the data into the column titles:\n",
    "\n",
    "titles = results[0]\n",
    "\n",
    "and the data:\n",
    "\n",
    "results = np.array(results[1:], dtype=float)\n",
    "\n",
    "results[1:] says that we only want to use the second element onwards (so we don't use the column titles). By passing our reults to a numpy array, we convert it into a much more useful format, and we can convert ALL our data in one go to numbers by telling the numpy array that the type is a float.\n",
    "\n",
    "That's a lot of text! So below, can you plot results? HINT: make sure you import the correct module!"
   ]
  },
  {
   "cell_type": "code",
   "execution_count": null,
   "metadata": {},
   "outputs": [],
   "source": [
    "#Your code here"
   ]
  },
  {
   "cell_type": "markdown",
   "metadata": {},
   "source": [
    "## csv reader"
   ]
  },
  {
   "cell_type": "markdown",
   "metadata": {},
   "source": [
    "Let's do the same above, using the module \"csv\":"
   ]
  },
  {
   "cell_type": "code",
   "execution_count": null,
   "metadata": {},
   "outputs": [],
   "source": [
    "import csv\n",
    "\n",
    "fin = open(\"test_file.csv\", 'r')\n",
    "reader = csv.reader(fin, delimiter=',')\n",
    "\n",
    "results_csv = list(reader)\n",
    "titles_csv = results_csv[0]\n",
    "\n",
    "results_csv = np.array(results_csv[1:], dtype=float)"
   ]
  },
  {
   "cell_type": "markdown",
   "metadata": {},
   "source": [
    "This is slightly more friendly! Here we use our csv reader:\n",
    "\n",
    "reader = csv.reader(fin, delimiter=',')\n",
    "\n",
    "to load in our csv file and do all the strip() and split(',') functions behind the scene. So we can convert this to a list in the same way we convert anything to a list, e.g. list(reader).\n",
    "\n",
    "The rest of the code is the same as the previous example!\n",
    "\n",
    "So, can you plot results below? It should exactly match the graph above."
   ]
  },
  {
   "cell_type": "code",
   "execution_count": null,
   "metadata": {},
   "outputs": [],
   "source": [
    "#Your code here"
   ]
  },
  {
   "cell_type": "markdown",
   "metadata": {},
   "source": [
    "## Pandas\n",
    "\n",
    "Pandas is my favourite module for this kind of work, lets' see why:"
   ]
  },
  {
   "cell_type": "code",
   "execution_count": null,
   "metadata": {},
   "outputs": [],
   "source": [
    "import pandas as pd\n",
    "\n",
    "results_pd = pd.read_csv(\"test_file.csv\", header=0)"
   ]
  },
  {
   "cell_type": "markdown",
   "metadata": {},
   "source": [
    "That's it!\n",
    "\n",
    "Well... not quite, there are a few caveats, but for now, print out results_pd in the box below. Do this once with a print statement, and once without and notice the difference."
   ]
  },
  {
   "cell_type": "code",
   "execution_count": null,
   "metadata": {},
   "outputs": [],
   "source": [
    "#Your code here"
   ]
  },
  {
   "cell_type": "markdown",
   "metadata": {},
   "source": [
    "Pandas will try it's best to sort out your data for you and prints it out in a friendly format - using pandas will be the topic of our next lesson, but for now, can you plot your data:"
   ]
  },
  {
   "cell_type": "code",
   "execution_count": null,
   "metadata": {},
   "outputs": [],
   "source": [
    "#Your code here"
   ]
  },
  {
   "cell_type": "markdown",
   "metadata": {},
   "source": [
    "This should be exactly the same as the other graphs."
   ]
  },
  {
   "cell_type": "markdown",
   "metadata": {},
   "source": [
    "## Task"
   ]
  },
  {
   "cell_type": "markdown",
   "metadata": {},
   "source": [
    "Run the code below:"
   ]
  },
  {
   "cell_type": "code",
   "execution_count": null,
   "metadata": {},
   "outputs": [],
   "source": [
    "data = np.cos(np.arange(0, 100, 0.1))\n",
    "with open(\"task_file.csv\", 'w', newline='') as file:\n",
    "    writer = csv.writer(file)\n",
    "    writer.writerow([\"data\"])\n",
    "    writer.writerows(data.reshape(-1, 1))"
   ]
  },
  {
   "cell_type": "markdown",
   "metadata": {},
   "source": [
    "Find the file and open it up to see what we're working with.\n",
    "\n",
    "Your task is to read in the data and plot a line graph with a legend (HINT: you'll need to look up how to do this!)\n",
    "\n",
    "BONUS: can you change the colour of the line?"
   ]
  },
  {
   "cell_type": "code",
   "execution_count": null,
   "metadata": {},
   "outputs": [],
   "source": []
  }
 ],
 "metadata": {
  "kernelspec": {
   "display_name": "Python 3",
   "language": "python",
   "name": "python3"
  },
  "language_info": {
   "codemirror_mode": {
    "name": "ipython",
    "version": 3
   },
   "file_extension": ".py",
   "mimetype": "text/x-python",
   "name": "python",
   "nbconvert_exporter": "python",
   "pygments_lexer": "ipython3",
   "version": "3.6.4"
  }
 },
 "nbformat": 4,
 "nbformat_minor": 2
}
