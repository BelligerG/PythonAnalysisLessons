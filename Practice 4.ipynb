{
 "cells": [
  {
   "cell_type": "markdown",
   "metadata": {},
   "source": [
    "# Practice Challenges 4"
   ]
  },
  {
   "cell_type": "markdown",
   "metadata": {},
   "source": [
    "Run this code:"
   ]
  },
  {
   "cell_type": "code",
   "execution_count": null,
   "metadata": {},
   "outputs": [],
   "source": [
    "import numpy as np\n",
    "import csv\n",
    "\n",
    "labels = ['Stock A', 'Stock B', 'Stock C', 'Stock D']\n",
    "\n",
    "values = np.random.rand(30, 4)\n",
    "values[:, 0] *= 5\n",
    "values[:, 1] *= np.random.rand()\n",
    "\n",
    "with open(\"Practice_4.csv\", 'w') as fout:\n",
    "    writer = csv.writer(fout)\n",
    "    writer.writerow(labels)\n",
    "    #writer.writerows(values)\n",
    "    for i in range(len(values)):\n",
    "        if i<15:\n",
    "            DATE = \"01/03\"\n",
    "        else:\n",
    "            DATE = \"02/03\"\n",
    "        writer.writerow(np.insert(values[i].astype(str), 0, DATE))"
   ]
  },
  {
   "cell_type": "markdown",
   "metadata": {},
   "source": [
    "The above code will generate a file containing 4 stock prices over 2 days, the 1st of March and the 2nd of March.\n",
    "\n",
    "We are going to manipulate the data, then you're going to investigate it as part of your challenge problem.\n",
    "\n",
    "Step 1:\n",
    "\n",
    "Load the data into a dataframe and look at it:"
   ]
  },
  {
   "cell_type": "code",
   "execution_count": null,
   "metadata": {},
   "outputs": [],
   "source": [
    "#Your code here"
   ]
  },
  {
   "cell_type": "markdown",
   "metadata": {},
   "source": [
    "Step 2:\n",
    "\n",
    "Notice, the index has changed! Try printing out just the unique values of the index:\n",
    "\n",
    "HINT: You may need to look some commands up to do this!"
   ]
  },
  {
   "cell_type": "code",
   "execution_count": null,
   "metadata": {},
   "outputs": [],
   "source": [
    "#Your code here"
   ]
  },
  {
   "cell_type": "markdown",
   "metadata": {},
   "source": [
    "Step 3:\n",
    "\n",
    "Check the data types of your dataframe"
   ]
  },
  {
   "cell_type": "code",
   "execution_count": null,
   "metadata": {},
   "outputs": [],
   "source": [
    "#Your code here"
   ]
  },
  {
   "cell_type": "markdown",
   "metadata": {},
   "source": [
    "Step 4:\n",
    "\n",
    "Convert any data you need to convert (you shouldn't need to convert any), let's print out a desciption of the data to see the ranges we're dealing with.\n",
    "\n",
    "Which stock fluctuated the most?"
   ]
  },
  {
   "cell_type": "code",
   "execution_count": null,
   "metadata": {},
   "outputs": [],
   "source": [
    "#Your code here"
   ]
  },
  {
   "cell_type": "markdown",
   "metadata": {},
   "source": [
    "Step 5:\n",
    "\n",
    "Now, we only want to have a look at the price of Stock A, can you print it out below?\n",
    "\n",
    "HINT: use the .loc command"
   ]
  },
  {
   "cell_type": "code",
   "execution_count": null,
   "metadata": {},
   "outputs": [],
   "source": [
    "#Your code here"
   ]
  },
  {
   "cell_type": "markdown",
   "metadata": {},
   "source": [
    "Step 6:\n",
    "\n",
    "Okay, what about if we only wanted Stock A on the 1st March? Print this out below.\n",
    "\n",
    "HINT: in the .loc command, the first bit pertains to the row(s) we want"
   ]
  },
  {
   "cell_type": "code",
   "execution_count": null,
   "metadata": {},
   "outputs": [],
   "source": [
    "#Your code here"
   ]
  },
  {
   "cell_type": "markdown",
   "metadata": {},
   "source": [
    "Step 7:\n",
    "\n",
    "Using the groupby function, can you find the mean stock price of stock A on the 1st and the 2nd of March?"
   ]
  },
  {
   "cell_type": "code",
   "execution_count": null,
   "metadata": {},
   "outputs": [],
   "source": [
    "#Your code here"
   ]
  },
  {
   "cell_type": "markdown",
   "metadata": {},
   "source": [
    "Now we've practiced slicing the data, you can use these tools to analyse it!\n",
    "\n",
    "Move on to your challenge when you're ready."
   ]
  },
  {
   "cell_type": "markdown",
   "metadata": {},
   "source": [
    "### Skills used\n",
    "\n",
    "- Slicing data\n",
    "- Pandas\n",
    "- Analysing unfamiliar datasets"
   ]
  },
  {
   "cell_type": "markdown",
   "metadata": {},
   "source": [
    "## Problem 4 (CHALLENGE)\n",
    "\n",
    "So, now we've practice manipulating the data I want you to explore it.\n",
    "\n",
    "This includes, creating line plots for each individual stock ON DIFFERENT AXES, box plots and any other analyses you see fit!"
   ]
  },
  {
   "cell_type": "code",
   "execution_count": 1,
   "metadata": {},
   "outputs": [],
   "source": [
    "#Your code here"
   ]
  },
  {
   "cell_type": "markdown",
   "metadata": {},
   "source": [
    "NOTE: If you have an issue where you plots and titles overlap, you can use this command,\n",
    "\n",
    "plt.tight_layout()\n",
    "\n",
    "underneath your plot command to fix it."
   ]
  }
 ],
 "metadata": {
  "kernelspec": {
   "display_name": "Python 3",
   "language": "python",
   "name": "python3"
  },
  "language_info": {
   "codemirror_mode": {
    "name": "ipython",
    "version": 3
   },
   "file_extension": ".py",
   "mimetype": "text/x-python",
   "name": "python",
   "nbconvert_exporter": "python",
   "pygments_lexer": "ipython3",
   "version": "3.6.4"
  }
 },
 "nbformat": 4,
 "nbformat_minor": 2
}
