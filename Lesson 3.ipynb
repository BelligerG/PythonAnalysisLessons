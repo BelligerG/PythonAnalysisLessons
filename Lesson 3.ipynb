{
 "cells": [
  {
   "cell_type": "markdown",
   "metadata": {},
   "source": [
    "# Lesson 3"
   ]
  },
  {
   "cell_type": "markdown",
   "metadata": {},
   "source": [
    "Welcome back, lets hit the ground running this week, first, can you create a list with the numbers 0 to 20 in?\n",
    "\n",
    "After that, print each element of the list out to the screen.\n",
    "\n",
    "Finally, put it into a function that we will use throughout this lesson."
   ]
  },
  {
   "cell_type": "code",
   "execution_count": 46,
   "metadata": {},
   "outputs": [],
   "source": [
    "#put your code here"
   ]
  },
  {
   "cell_type": "markdown",
   "metadata": {},
   "source": [
    "## Range"
   ]
  },
  {
   "cell_type": "markdown",
   "metadata": {},
   "source": [
    "This lesson, I'll introduce you to some keywords in python. These keywords make writing code a lot tidier, for example, the fist one we'll use is the 'range' keyword.\n",
    "\n",
    "'range' creates a generator of numbers, this means that we can dip into it and ask for the next number and it will increase between 2 values. \n",
    "\n",
    "The format for using this keyword is:\n",
    "\n",
    "range(lowest_number, highest_number, step_size)\n",
    "\n",
    "Both the lowest number and the step_size are optional arguments, without the lowest number it defaults to 0 and without the step size, the step size will be 1.\n",
    "\n",
    "An example is shown below:"
   ]
  },
  {
   "cell_type": "code",
   "execution_count": 49,
   "metadata": {},
   "outputs": [
    {
     "data": {
      "text/plain": [
       "range(0, 5)"
      ]
     },
     "execution_count": 49,
     "metadata": {},
     "output_type": "execute_result"
    }
   ],
   "source": [
    "range(0, 5)"
   ]
  },
  {
   "cell_type": "markdown",
   "metadata": {},
   "source": [
    "If you print out the above, it will show you that it's a range object. Try saving it to a variable and passing it into your function and see what happens."
   ]
  },
  {
   "cell_type": "code",
   "execution_count": 50,
   "metadata": {},
   "outputs": [],
   "source": [
    "#Your code here"
   ]
  },
  {
   "cell_type": "markdown",
   "metadata": {},
   "source": [
    "Try changing the step size and passing into your function again.\n",
    "\n",
    "Can you find the limit of the range keyword? HINT: try using a float"
   ]
  },
  {
   "cell_type": "markdown",
   "metadata": {},
   "source": [
    "## len"
   ]
  },
  {
   "cell_type": "markdown",
   "metadata": {},
   "source": [
    "The easiest way to et the size of a list is to use the len keyword.\n",
    "\n",
    "The use of this is simply:\n",
    "\n",
    "len(name_of_list)\n",
    "\n",
    "It is commonly used along with the 'range' keyword, take a look at the code below, go through it and understand it."
   ]
  },
  {
   "cell_type": "code",
   "execution_count": 54,
   "metadata": {},
   "outputs": [
    {
     "name": "stdout",
     "output_type": "stream",
     "text": [
      "0\n",
      "1\n",
      "2\n",
      "3\n",
      "item1\n",
      "item2\n",
      "item3\n",
      "item4\n"
     ]
    }
   ],
   "source": [
    "string_list = [\"item1\", \"item2\", \"item3\", \"item4\"]\n",
    "\n",
    "for item in range(len(string_list)):\n",
    "    print(item)\n",
    "    \n",
    "for item in range(len(string_list)):\n",
    "    print(string_list[item])"
   ]
  },
  {
   "cell_type": "markdown",
   "metadata": {},
   "source": [
    "The first for loop prints out the results of the range, remember this is equivalent of running range(0, 4, 1) (using a lowest number of 0, highest number of 4 - the size of the string_list - and a step size of 1).\n",
    "\n",
    "In the second for loop we use the numbers generated from the range statement, to access the elements of the list individually. Items of a list can be accessed from their index e.g. the first element of string_list can be retrieved by using string_list[0], the second by using string_list[1] etc...\n",
    "\n",
    "Try accessing and printing the last element of string_list below BONUS: use 'len' to do this."
   ]
  },
  {
   "cell_type": "code",
   "execution_count": 55,
   "metadata": {},
   "outputs": [],
   "source": [
    "#Your code here"
   ]
  },
  {
   "cell_type": "markdown",
   "metadata": {},
   "source": [
    "Actually code written above is poorly done. Can you combine the for loops to print out the index and the element of string_list? HINT: you can print multiple things by separating them in a print statement using a comma."
   ]
  },
  {
   "cell_type": "markdown",
   "metadata": {},
   "source": [
    "## enumerate"
   ]
  },
  {
   "cell_type": "markdown",
   "metadata": {},
   "source": [
    "The enumerate keyword will automatically number items in a list, in order to use this, you need to alter your for loop slightly:"
   ]
  },
  {
   "cell_type": "code",
   "execution_count": 58,
   "metadata": {},
   "outputs": [
    {
     "name": "stdout",
     "output_type": "stream",
     "text": [
      "0 item1\n",
      "1 item2\n",
      "2 item3\n",
      "3 item4\n"
     ]
    }
   ],
   "source": [
    "my_string_list = [\"item1\", \"item2\", \"item3\", \"item4\"]\n",
    "\n",
    "#notice we are collecting 2 values from our enumerated list\n",
    "for number, item in enumerate(my_string_list):\n",
    "    print(number, item)"
   ]
  },
  {
   "cell_type": "markdown",
   "metadata": {},
   "source": [
    "The use of enumerate is really good if ou need to apply different functions to different lines in your data, for example if I only need item 3 I could do something like this:"
   ]
  },
  {
   "cell_type": "code",
   "execution_count": 60,
   "metadata": {},
   "outputs": [
    {
     "name": "stdout",
     "output_type": "stream",
     "text": [
      "item3\n"
     ]
    }
   ],
   "source": [
    "for i, j in enumerate(my_string_list):\n",
    "    if i==2:\n",
    "        print(j)"
   ]
  },
  {
   "cell_type": "markdown",
   "metadata": {},
   "source": [
    "Notice, enumerate begins at 0. Ofcourse, if we only needed to access element 3 of the list we could just call it like this:"
   ]
  },
  {
   "cell_type": "code",
   "execution_count": 62,
   "metadata": {},
   "outputs": [
    {
     "data": {
      "text/plain": [
       "'item3'"
      ]
     },
     "execution_count": 62,
     "metadata": {},
     "output_type": "execute_result"
    }
   ],
   "source": [
    "my_string_list[2]"
   ]
  },
  {
   "cell_type": "markdown",
   "metadata": {},
   "source": [
    "## Task"
   ]
  },
  {
   "cell_type": "markdown",
   "metadata": {},
   "source": [
    "Run the code below."
   ]
  },
  {
   "cell_type": "code",
   "execution_count": 56,
   "metadata": {},
   "outputs": [],
   "source": [
    "import numpy as np\n",
    "\n",
    "no_samples = [10**i for i in range(5)]\n",
    "timings = np.random.rand(5)\n",
    "timings = [timings[i]+(no_samples[i]/(i+1)) for i in range(len(timings))]\n",
    "data = []\n",
    "\n",
    "for i,j in zip(no_samples, timings):\n",
    "    data.append(i)\n",
    "    data.append(j)"
   ]
  },
  {
   "cell_type": "markdown",
   "metadata": {},
   "source": [
    "You may recognise this as the same from last lesson!\n",
    "\n",
    "I want you to solve it again (description below) using the 'enumerate' keyword.\n",
    "\n",
    "\n",
    "Description:\n",
    "\n",
    "I receieved some benchmarking data in a file (benchmarking is testing how fast a code runs). I was given a file where the first line (and every other line after that) contained the size of the system, and the second (and every other line after that) contained the time it took to calculate the required property."
   ]
  },
  {
   "cell_type": "code",
   "execution_count": null,
   "metadata": {},
   "outputs": [],
   "source": [
    "#Your code here"
   ]
  }
 ],
 "metadata": {
  "kernelspec": {
   "display_name": "Python 3",
   "language": "python",
   "name": "python3"
  },
  "language_info": {
   "codemirror_mode": {
    "name": "ipython",
    "version": 3
   },
   "file_extension": ".py",
   "mimetype": "text/x-python",
   "name": "python",
   "nbconvert_exporter": "python",
   "pygments_lexer": "ipython3",
   "version": "3.6.4"
  }
 },
 "nbformat": 4,
 "nbformat_minor": 2
}
